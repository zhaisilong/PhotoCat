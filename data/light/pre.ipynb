{
 "cells": [
  {
   "cell_type": "code",
   "execution_count": 1,
   "outputs": [],
   "source": [
    "from z.utils import read_excel, set_seeds\n",
    "from z.smi import canonize_rxn\n",
    "from pathlib import Path\n",
    "from collections import defaultdict\n",
    "import pandas as pd"
   ],
   "metadata": {
    "collapsed": false
   }
  },
  {
   "cell_type": "code",
   "execution_count": 2,
   "outputs": [],
   "source": [
    "DIR = Path('raw')\n",
    "SEED = 42\n",
    "DATAS = [DIR / f'{i + 1}.xlsx' for i in range(5)]"
   ],
   "metadata": {
    "collapsed": false
   }
  },
  {
   "cell_type": "code",
   "execution_count": 3,
   "outputs": [],
   "source": [
    "set_seeds(42)"
   ],
   "metadata": {
    "collapsed": false
   }
  },
  {
   "cell_type": "code",
   "execution_count": 4,
   "outputs": [
    {
     "name": "stdout",
     "output_type": "stream",
     "text": [
      "6070\n"
     ]
    },
    {
     "data": {
      "text/plain": "                                             reaction photocatalyst base  \\\n0   C=CC1=CC=CC=C1.FC([S+]2C3=C(C=CC=C3)C4=C2C=CC=...  fac-Ir(ppy)3  NaN   \n1   C=CC1=CC=CC=C1.FC([S+]2C3=C(C=CC=C3)C4=C2C=CC=...  fac-Ir(ppy)3  NaN   \n2   C=CC1=CC=CC=C1.FC([S+]2C3=C(C=CC=C3)C4=C2C=CC=...  fac-Ir(ppy)3  NaN   \n3   C=CC1=CC=CC=C1.FC([S+]2C3=C(C=CC=C3)C4=C2C=CC=...  fac-Ir(ppy)3  NaN   \n4   C=CC1=CC=CC=C1.FC([S+]2C3=C(C=CC=C3)C4=C2C=CC=...  fac-Ir(ppy)3  NaN   \n5   C=CC1=CC=CC=C1.FC([S+]2C3=C(C=CC=C3)C4=C2C=CC=...  fac-Ir(ppy)3  NaN   \n6   C=CC1=CC=CC=C1.FC([S+]2C3=C(C=CC=C3)C4=C2C=CC=...  fac-Ir(ppy)3  NaN   \n7   C=CC1=CC=CC=C1.FC([S+]2C3=C(C=CC=C3)C4=C2C=CC=...  fac-Ir(ppy)3  NaN   \n8   C=CC1=CC=CC=C1.FC([S+]2C3=C(C=CC=C3)C4=C2C=CC=...  fac-Ir(ppy)3  NaN   \n9   C=CC1=CC=CC=C1.FC([S+]2C3=C(C=CC=C3)C4=C2C=CC=...  fac-Ir(ppy)3  NaN   \n10  C=CC1=CC=C(OC)C=C1.FC([S+]2C3=C(C=CC=C3)C4=C2C...  fac-Ir(ppy)3  NaN   \n11  C=CC1=CC=C(F)C=C1.FC([S+]2C3=C(C=CC=C3)C4=C2C=...  fac-Ir(ppy)3  NaN   \n12  C=CC1=CC=C(Cl)C=C1.FC([S+]2C3=C(C=CC=C3)C4=C2C...  fac-Ir(ppy)3  NaN   \n13  C=CC1=CC=C(Br)C=C1.FC([S+]2C3=C(C=CC=C3)C4=C2C...  fac-Ir(ppy)3  NaN   \n14  C=CC1=CC=C(OC(C)=O)C=C1.FC([S+]2C3=C(C=CC=C3)C...  fac-Ir(ppy)3  NaN   \n15  C=CC1=CC=C(C(F)(F)F)C=C1.FC([S+]2C3=C(C=CC=C3)...  fac-Ir(ppy)3  NaN   \n16  C=CC1=CC=C(OC(C)=O)C=C1.FC([S+]2C3=C(C=CC=C3)C...  fac-Ir(ppy)3  NaN   \n17  C=CC1=CC=C(B2OC(C)(C)C(C)(C)O2)C=C1.FC([S+]3C4...  fac-Ir(ppy)3  NaN   \n18  C=C(C)C1=CC=CC=C1.FC([S+]2C3=C(C=CC=C3)C4=C2C=...  fac-Ir(ppy)3  NaN   \n19  C=C(C1=CC=CC=C1)C2=CC=CC=C2.FC([S+]3C4=C(C=CC=...  fac-Ir(ppy)3  NaN   \n\n   additive solvent  time(h) yield/%  \\\n0       NaN     DCE      2.0      78   \n1       NaN     DCE      2.0      75   \n2       NaN     DCE      2.0      76   \n3       NaN     DCE      2.0      84   \n4       NaN     DCE      2.0      51   \n5       NaN     DCE      2.0      72   \n6       NaN     DCE      2.0      74   \n7       NaN     DCE      2.0      87   \n8       NaN     DCE      2.0      74   \n9       NaN     DCE      2.0      72   \n10      NaN     DCE      2.0      96   \n11      NaN     DCE      2.0      96   \n12      NaN  actone      2.0      92   \n13      NaN  actone      2.0      89   \n14      NaN  actone      2.0      98   \n15      NaN  actone      2.0      41   \n16      NaN  actone      2.0      98   \n17      NaN  actone      2.0      84   \n18      NaN  actone      2.0      82   \n19      NaN  actone      2.0      90   \n\n                                         source  Unnamed: 8  Unnamed: 9  \\\n0   Angew. Chem., Int. Ed., 2012, 51, 9567–9571        37.0         1.0   \n1   Angew. Chem., Int. Ed., 2012, 51, 9567–9571        37.0         2.0   \n2   Angew. Chem., Int. Ed., 2012, 51, 9567–9571        37.0         3.0   \n3   Angew. Chem., Int. Ed., 2012, 51, 9567–9571        37.0         4.0   \n4   Angew. Chem., Int. Ed., 2012, 51, 9567–9571        37.0         5.0   \n5   Angew. Chem., Int. Ed., 2012, 51, 9567–9571        37.0         6.0   \n6   Angew. Chem., Int. Ed., 2012, 51, 9567–9571        37.0         7.0   \n7   Angew. Chem., Int. Ed., 2012, 51, 9567–9571        37.0         8.0   \n8   Angew. Chem., Int. Ed., 2012, 51, 9567–9571        37.0         9.0   \n9   Angew. Chem., Int. Ed., 2012, 51, 9567–9571        37.0        10.0   \n10  Angew. Chem., Int. Ed., 2012, 51, 9567–9571        37.0        11.0   \n11  Angew. Chem., Int. Ed., 2012, 51, 9567–9571        37.0        12.0   \n12  Angew. Chem., Int. Ed., 2012, 51, 9567–9571        37.0        13.0   \n13  Angew. Chem., Int. Ed., 2012, 51, 9567–9571        37.0        14.0   \n14  Angew. Chem., Int. Ed., 2012, 51, 9567–9571        37.0        15.0   \n15  Angew. Chem., Int. Ed., 2012, 51, 9567–9571        37.0        16.0   \n16  Angew. Chem., Int. Ed., 2012, 51, 9567–9571        37.0        17.0   \n17  Angew. Chem., Int. Ed., 2012, 51, 9567–9571        37.0        18.0   \n18  Angew. Chem., Int. Ed., 2012, 51, 9567–9571        37.0        19.0   \n19  Angew. Chem., Int. Ed., 2012, 51, 9567–9571        37.0        20.0   \n\n    Unnamed: 10 base/acid  \n0           NaN       NaN  \n1           NaN       NaN  \n2           NaN       NaN  \n3           NaN       NaN  \n4           NaN       NaN  \n5           NaN       NaN  \n6           NaN       NaN  \n7           NaN       NaN  \n8           NaN       NaN  \n9           NaN       NaN  \n10          NaN       NaN  \n11          NaN       NaN  \n12          NaN       NaN  \n13          NaN       NaN  \n14          NaN       NaN  \n15          NaN       NaN  \n16          NaN       NaN  \n17          NaN       NaN  \n18          NaN       NaN  \n19          NaN       NaN  ",
      "text/html": "<div>\n<style scoped>\n    .dataframe tbody tr th:only-of-type {\n        vertical-align: middle;\n    }\n\n    .dataframe tbody tr th {\n        vertical-align: top;\n    }\n\n    .dataframe thead th {\n        text-align: right;\n    }\n</style>\n<table border=\"1\" class=\"dataframe\">\n  <thead>\n    <tr style=\"text-align: right;\">\n      <th></th>\n      <th>reaction</th>\n      <th>photocatalyst</th>\n      <th>base</th>\n      <th>additive</th>\n      <th>solvent</th>\n      <th>time(h)</th>\n      <th>yield/%</th>\n      <th>source</th>\n      <th>Unnamed: 8</th>\n      <th>Unnamed: 9</th>\n      <th>Unnamed: 10</th>\n      <th>base/acid</th>\n    </tr>\n  </thead>\n  <tbody>\n    <tr>\n      <th>0</th>\n      <td>C=CC1=CC=CC=C1.FC([S+]2C3=C(C=CC=C3)C4=C2C=CC=...</td>\n      <td>fac-Ir(ppy)3</td>\n      <td>NaN</td>\n      <td>NaN</td>\n      <td>DCE</td>\n      <td>2.0</td>\n      <td>78</td>\n      <td>Angew. Chem., Int. Ed., 2012, 51, 9567–9571</td>\n      <td>37.0</td>\n      <td>1.0</td>\n      <td>NaN</td>\n      <td>NaN</td>\n    </tr>\n    <tr>\n      <th>1</th>\n      <td>C=CC1=CC=CC=C1.FC([S+]2C3=C(C=CC=C3)C4=C2C=CC=...</td>\n      <td>fac-Ir(ppy)3</td>\n      <td>NaN</td>\n      <td>NaN</td>\n      <td>DCE</td>\n      <td>2.0</td>\n      <td>75</td>\n      <td>Angew. Chem., Int. Ed., 2012, 51, 9567–9571</td>\n      <td>37.0</td>\n      <td>2.0</td>\n      <td>NaN</td>\n      <td>NaN</td>\n    </tr>\n    <tr>\n      <th>2</th>\n      <td>C=CC1=CC=CC=C1.FC([S+]2C3=C(C=CC=C3)C4=C2C=CC=...</td>\n      <td>fac-Ir(ppy)3</td>\n      <td>NaN</td>\n      <td>NaN</td>\n      <td>DCE</td>\n      <td>2.0</td>\n      <td>76</td>\n      <td>Angew. Chem., Int. Ed., 2012, 51, 9567–9571</td>\n      <td>37.0</td>\n      <td>3.0</td>\n      <td>NaN</td>\n      <td>NaN</td>\n    </tr>\n    <tr>\n      <th>3</th>\n      <td>C=CC1=CC=CC=C1.FC([S+]2C3=C(C=CC=C3)C4=C2C=CC=...</td>\n      <td>fac-Ir(ppy)3</td>\n      <td>NaN</td>\n      <td>NaN</td>\n      <td>DCE</td>\n      <td>2.0</td>\n      <td>84</td>\n      <td>Angew. Chem., Int. Ed., 2012, 51, 9567–9571</td>\n      <td>37.0</td>\n      <td>4.0</td>\n      <td>NaN</td>\n      <td>NaN</td>\n    </tr>\n    <tr>\n      <th>4</th>\n      <td>C=CC1=CC=CC=C1.FC([S+]2C3=C(C=CC=C3)C4=C2C=CC=...</td>\n      <td>fac-Ir(ppy)3</td>\n      <td>NaN</td>\n      <td>NaN</td>\n      <td>DCE</td>\n      <td>2.0</td>\n      <td>51</td>\n      <td>Angew. Chem., Int. Ed., 2012, 51, 9567–9571</td>\n      <td>37.0</td>\n      <td>5.0</td>\n      <td>NaN</td>\n      <td>NaN</td>\n    </tr>\n    <tr>\n      <th>5</th>\n      <td>C=CC1=CC=CC=C1.FC([S+]2C3=C(C=CC=C3)C4=C2C=CC=...</td>\n      <td>fac-Ir(ppy)3</td>\n      <td>NaN</td>\n      <td>NaN</td>\n      <td>DCE</td>\n      <td>2.0</td>\n      <td>72</td>\n      <td>Angew. Chem., Int. Ed., 2012, 51, 9567–9571</td>\n      <td>37.0</td>\n      <td>6.0</td>\n      <td>NaN</td>\n      <td>NaN</td>\n    </tr>\n    <tr>\n      <th>6</th>\n      <td>C=CC1=CC=CC=C1.FC([S+]2C3=C(C=CC=C3)C4=C2C=CC=...</td>\n      <td>fac-Ir(ppy)3</td>\n      <td>NaN</td>\n      <td>NaN</td>\n      <td>DCE</td>\n      <td>2.0</td>\n      <td>74</td>\n      <td>Angew. Chem., Int. Ed., 2012, 51, 9567–9571</td>\n      <td>37.0</td>\n      <td>7.0</td>\n      <td>NaN</td>\n      <td>NaN</td>\n    </tr>\n    <tr>\n      <th>7</th>\n      <td>C=CC1=CC=CC=C1.FC([S+]2C3=C(C=CC=C3)C4=C2C=CC=...</td>\n      <td>fac-Ir(ppy)3</td>\n      <td>NaN</td>\n      <td>NaN</td>\n      <td>DCE</td>\n      <td>2.0</td>\n      <td>87</td>\n      <td>Angew. Chem., Int. Ed., 2012, 51, 9567–9571</td>\n      <td>37.0</td>\n      <td>8.0</td>\n      <td>NaN</td>\n      <td>NaN</td>\n    </tr>\n    <tr>\n      <th>8</th>\n      <td>C=CC1=CC=CC=C1.FC([S+]2C3=C(C=CC=C3)C4=C2C=CC=...</td>\n      <td>fac-Ir(ppy)3</td>\n      <td>NaN</td>\n      <td>NaN</td>\n      <td>DCE</td>\n      <td>2.0</td>\n      <td>74</td>\n      <td>Angew. Chem., Int. Ed., 2012, 51, 9567–9571</td>\n      <td>37.0</td>\n      <td>9.0</td>\n      <td>NaN</td>\n      <td>NaN</td>\n    </tr>\n    <tr>\n      <th>9</th>\n      <td>C=CC1=CC=CC=C1.FC([S+]2C3=C(C=CC=C3)C4=C2C=CC=...</td>\n      <td>fac-Ir(ppy)3</td>\n      <td>NaN</td>\n      <td>NaN</td>\n      <td>DCE</td>\n      <td>2.0</td>\n      <td>72</td>\n      <td>Angew. Chem., Int. Ed., 2012, 51, 9567–9571</td>\n      <td>37.0</td>\n      <td>10.0</td>\n      <td>NaN</td>\n      <td>NaN</td>\n    </tr>\n    <tr>\n      <th>10</th>\n      <td>C=CC1=CC=C(OC)C=C1.FC([S+]2C3=C(C=CC=C3)C4=C2C...</td>\n      <td>fac-Ir(ppy)3</td>\n      <td>NaN</td>\n      <td>NaN</td>\n      <td>DCE</td>\n      <td>2.0</td>\n      <td>96</td>\n      <td>Angew. Chem., Int. Ed., 2012, 51, 9567–9571</td>\n      <td>37.0</td>\n      <td>11.0</td>\n      <td>NaN</td>\n      <td>NaN</td>\n    </tr>\n    <tr>\n      <th>11</th>\n      <td>C=CC1=CC=C(F)C=C1.FC([S+]2C3=C(C=CC=C3)C4=C2C=...</td>\n      <td>fac-Ir(ppy)3</td>\n      <td>NaN</td>\n      <td>NaN</td>\n      <td>DCE</td>\n      <td>2.0</td>\n      <td>96</td>\n      <td>Angew. Chem., Int. Ed., 2012, 51, 9567–9571</td>\n      <td>37.0</td>\n      <td>12.0</td>\n      <td>NaN</td>\n      <td>NaN</td>\n    </tr>\n    <tr>\n      <th>12</th>\n      <td>C=CC1=CC=C(Cl)C=C1.FC([S+]2C3=C(C=CC=C3)C4=C2C...</td>\n      <td>fac-Ir(ppy)3</td>\n      <td>NaN</td>\n      <td>NaN</td>\n      <td>actone</td>\n      <td>2.0</td>\n      <td>92</td>\n      <td>Angew. Chem., Int. Ed., 2012, 51, 9567–9571</td>\n      <td>37.0</td>\n      <td>13.0</td>\n      <td>NaN</td>\n      <td>NaN</td>\n    </tr>\n    <tr>\n      <th>13</th>\n      <td>C=CC1=CC=C(Br)C=C1.FC([S+]2C3=C(C=CC=C3)C4=C2C...</td>\n      <td>fac-Ir(ppy)3</td>\n      <td>NaN</td>\n      <td>NaN</td>\n      <td>actone</td>\n      <td>2.0</td>\n      <td>89</td>\n      <td>Angew. Chem., Int. Ed., 2012, 51, 9567–9571</td>\n      <td>37.0</td>\n      <td>14.0</td>\n      <td>NaN</td>\n      <td>NaN</td>\n    </tr>\n    <tr>\n      <th>14</th>\n      <td>C=CC1=CC=C(OC(C)=O)C=C1.FC([S+]2C3=C(C=CC=C3)C...</td>\n      <td>fac-Ir(ppy)3</td>\n      <td>NaN</td>\n      <td>NaN</td>\n      <td>actone</td>\n      <td>2.0</td>\n      <td>98</td>\n      <td>Angew. Chem., Int. Ed., 2012, 51, 9567–9571</td>\n      <td>37.0</td>\n      <td>15.0</td>\n      <td>NaN</td>\n      <td>NaN</td>\n    </tr>\n    <tr>\n      <th>15</th>\n      <td>C=CC1=CC=C(C(F)(F)F)C=C1.FC([S+]2C3=C(C=CC=C3)...</td>\n      <td>fac-Ir(ppy)3</td>\n      <td>NaN</td>\n      <td>NaN</td>\n      <td>actone</td>\n      <td>2.0</td>\n      <td>41</td>\n      <td>Angew. Chem., Int. Ed., 2012, 51, 9567–9571</td>\n      <td>37.0</td>\n      <td>16.0</td>\n      <td>NaN</td>\n      <td>NaN</td>\n    </tr>\n    <tr>\n      <th>16</th>\n      <td>C=CC1=CC=C(OC(C)=O)C=C1.FC([S+]2C3=C(C=CC=C3)C...</td>\n      <td>fac-Ir(ppy)3</td>\n      <td>NaN</td>\n      <td>NaN</td>\n      <td>actone</td>\n      <td>2.0</td>\n      <td>98</td>\n      <td>Angew. Chem., Int. Ed., 2012, 51, 9567–9571</td>\n      <td>37.0</td>\n      <td>17.0</td>\n      <td>NaN</td>\n      <td>NaN</td>\n    </tr>\n    <tr>\n      <th>17</th>\n      <td>C=CC1=CC=C(B2OC(C)(C)C(C)(C)O2)C=C1.FC([S+]3C4...</td>\n      <td>fac-Ir(ppy)3</td>\n      <td>NaN</td>\n      <td>NaN</td>\n      <td>actone</td>\n      <td>2.0</td>\n      <td>84</td>\n      <td>Angew. Chem., Int. Ed., 2012, 51, 9567–9571</td>\n      <td>37.0</td>\n      <td>18.0</td>\n      <td>NaN</td>\n      <td>NaN</td>\n    </tr>\n    <tr>\n      <th>18</th>\n      <td>C=C(C)C1=CC=CC=C1.FC([S+]2C3=C(C=CC=C3)C4=C2C=...</td>\n      <td>fac-Ir(ppy)3</td>\n      <td>NaN</td>\n      <td>NaN</td>\n      <td>actone</td>\n      <td>2.0</td>\n      <td>82</td>\n      <td>Angew. Chem., Int. Ed., 2012, 51, 9567–9571</td>\n      <td>37.0</td>\n      <td>19.0</td>\n      <td>NaN</td>\n      <td>NaN</td>\n    </tr>\n    <tr>\n      <th>19</th>\n      <td>C=C(C1=CC=CC=C1)C2=CC=CC=C2.FC([S+]3C4=C(C=CC=...</td>\n      <td>fac-Ir(ppy)3</td>\n      <td>NaN</td>\n      <td>NaN</td>\n      <td>actone</td>\n      <td>2.0</td>\n      <td>90</td>\n      <td>Angew. Chem., Int. Ed., 2012, 51, 9567–9571</td>\n      <td>37.0</td>\n      <td>20.0</td>\n      <td>NaN</td>\n      <td>NaN</td>\n    </tr>\n  </tbody>\n</table>\n</div>"
     },
     "execution_count": 4,
     "metadata": {},
     "output_type": "execute_result"
    }
   ],
   "source": [
    "df = read_excel(DATAS)\n",
    "print(len(df))\n",
    "df.head(20)"
   ],
   "metadata": {
    "collapsed": false
   }
  },
  {
   "cell_type": "code",
   "execution_count": 5,
   "outputs": [
    {
     "name": "stderr",
     "output_type": "stream",
     "text": [
      "[08:46:47] Explicit valence for atom # 3 Br, 3, is greater than permitted\n",
      "[08:46:47] Explicit valence for atom # 1 N, 4, is greater than permitted\n",
      "[08:46:47] Explicit valence for atom # 1 N, 4, is greater than permitted\n",
      "[08:46:48] SMILES Parse Error: syntax error while parsing: [H2O18]\n",
      "[08:46:48] SMILES Parse Error: Failed parsing SMILES '[H2O18]' for input: '[H2O18]'\n",
      "[08:46:48] Explicit valence for atom # 3 Br, 3, is greater than permitted\n",
      "[08:46:48] Explicit valence for atom # 0 Cl, 2, is greater than permitted\n",
      "[08:46:48] Explicit valence for atom # 1 Cl, 5, is greater than permitted\n",
      "[08:46:48] Explicit valence for atom # 0 Cl, 3, is greater than permitted\n",
      "[08:46:49] Explicit valence for atom # 6 S, 8, is greater than permitted\n",
      "[08:46:49] SMILES Parse Error: syntax error while parsing: vCC1=CC=NC2=CC=CC=C21\n",
      "[08:46:49] SMILES Parse Error: Failed parsing SMILES 'vCC1=CC=NC2=CC=CC=C21' for input: 'vCC1=CC=NC2=CC=CC=C21'\n"
     ]
    }
   ],
   "source": [
    "# 去掉不能标准化的反应，抑制输出\n",
    "df['canonized_rxns'] = df['reaction'].apply(canonize_rxn)\n",
    "df.dropna(subset=['canonized_rxns'], inplace=True);"
   ],
   "metadata": {
    "collapsed": false
   }
  },
  {
   "cell_type": "code",
   "execution_count": 6,
   "outputs": [],
   "source": [
    "\"\"\"Numerical for Extra Information\"\"\"\n",
    "def get_map_dict(df: pd.DataFrame, col: str):\n",
    "    map_dict = defaultdict(int)\n",
    "    for v, k in enumerate(df[col].value_counts().index.to_list()):\n",
    "        map_dict[k] = v + 1 # Zero for Unknown Type\n",
    "    return map_dict"
   ],
   "metadata": {
    "collapsed": false
   }
  },
  {
   "cell_type": "code",
   "execution_count": 7,
   "outputs": [],
   "source": [
    "# Numerical Catalyst\n",
    "cat_map_dict = get_map_dict(df, 'photocatalyst')\n",
    "df['cat_class'] = df['photocatalyst'].apply(lambda x: cat_map_dict[x])"
   ],
   "metadata": {
    "collapsed": false
   }
  },
  {
   "cell_type": "code",
   "execution_count": 8,
   "outputs": [],
   "source": [
    "# Numerical Base\n",
    "base_map_dict = get_map_dict(df, 'base')\n",
    "df['base_class'] = df['base'].apply(lambda x: base_map_dict[x])"
   ],
   "metadata": {
    "collapsed": false
   }
  },
  {
   "cell_type": "code",
   "execution_count": 9,
   "outputs": [],
   "source": [
    "# Numerical Additives\n",
    "additive_map_dict = get_map_dict(df, 'additive')\n",
    "df['additive_class'] = df['additive'].apply(lambda x: additive_map_dict[x])"
   ],
   "metadata": {
    "collapsed": false
   }
  },
  {
   "cell_type": "code",
   "execution_count": 10,
   "outputs": [],
   "source": [
    "# Numerical solvent\n",
    "solvent_map_dict = get_map_dict(df, 'solvent')\n",
    "df['solvent_class'] = df['solvent'].apply(lambda x: solvent_map_dict[x])"
   ],
   "metadata": {
    "collapsed": false
   }
  },
  {
   "cell_type": "code",
   "execution_count": 11,
   "outputs": [],
   "source": [
    "df.to_csv('data.csv')"
   ],
   "metadata": {
    "collapsed": false
   }
  },
  {
   "cell_type": "code",
   "execution_count": 29,
   "outputs": [],
   "source": [
    "base_list = df['base'].value_counts().index.to_list()"
   ],
   "metadata": {
    "collapsed": false
   }
  },
  {
   "cell_type": "code",
   "execution_count": 30,
   "outputs": [
    {
     "data": {
      "text/plain": "0           NaN\n1           NaN\n2           NaN\n3           NaN\n4           NaN\n         ...   \n6013    Na2HPO4\n6014    Na2HPO4\n6015    Na2HPO4\n6016    Na2HPO4\n6017    Na2HPO4\nName: base, Length: 6007, dtype: object"
     },
     "execution_count": 30,
     "metadata": {},
     "output_type": "execute_result"
    }
   ],
   "source": [
    "df['base']"
   ],
   "metadata": {
    "collapsed": false
   }
  },
  {
   "cell_type": "code",
   "execution_count": 17,
   "outputs": [
    {
     "data": {
      "text/plain": "['DABCO',\n 'Cs2CO3',\n 'K2CO3',\n 'TFA',\n 'Na2HPO4',\n 'KOtBu',\n 'Na2CO3',\n '2,6-lutidine',\n '/HCl',\n 'propionic acid',\n 'DBU',\n 'TBD',\n 'Et3N',\n 'K2HPO4',\n 'AgOAc',\n 'NaHSO4',\n 'KH2PO4',\n 'Collidine',\n 'MsOH',\n 'BF3.OEt2',\n '/TFA/KOH',\n 'K3PO4',\n 'TMP',\n 'AgTFA',\n 'NaH2PO4',\n '/TFA/(i-pr)2NEt/',\n 'TBPB',\n 'KH2PO4/',\n 'TfOH',\n 'NaOAc',\n 'NaHCO3',\n 'DMAP',\n 'CsCO3/',\n 'Sc(OTf)3']"
     },
     "execution_count": 17,
     "metadata": {},
     "output_type": "execute_result"
    }
   ],
   "source": [
    "base_list"
   ],
   "metadata": {
    "collapsed": false
   }
  }
 ],
 "metadata": {
  "kernelspec": {
   "display_name": "Python 3",
   "language": "python",
   "name": "python3"
  },
  "language_info": {
   "codemirror_mode": {
    "name": "ipython",
    "version": 2
   },
   "file_extension": ".py",
   "mimetype": "text/x-python",
   "name": "python",
   "nbconvert_exporter": "python",
   "pygments_lexer": "ipython2",
   "version": "2.7.6"
  }
 },
 "nbformat": 4,
 "nbformat_minor": 0
}
