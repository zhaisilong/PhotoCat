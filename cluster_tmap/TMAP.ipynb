{
 "cells": [
  {
   "cell_type": "code",
   "execution_count": 117,
   "metadata": {
    "collapsed": false,
    "pycharm": {
     "name": "#%%\n"
    }
   },
   "outputs": [],
   "source": [
    "import pandas as pd\n",
    "from tqdm import tqdm\n",
    "from rxnfp.transformer_fingerprints import (\n",
    "    RXNBERTFingerprintGenerator,\n",
    "    get_default_model_and_tokenizer,\n",
    "    generate_fingerprints,\n",
    ")\n",
    "import numpy as np\n",
    "import tmap as tm\n",
    "import os\n",
    "from rdkit.Chem import Descriptors\n",
    "from scipy import stats\n",
    "from matplotlib.colors import LinearSegmentedColormap\n",
    "from faerun import Faerun\n",
    "from matplotlib.colors import ListedColormap\n",
    "import matplotlib.pyplot as plt\n",
    "from pathlib import Path"
   ]
  },
  {
   "cell_type": "code",
   "execution_count": 118,
   "metadata": {
    "collapsed": false,
    "pycharm": {
     "name": "#%%\n"
    }
   },
   "outputs": [],
   "source": [
    "BASE_NAME = 'light'\n",
    "DATA_DIR = Path('./data/light/raw')\n",
    "DATAS = [DATA_DIR / f'{i+1}.xlsx' for i in range(5)]\n",
    "# USPTO_50k = 'data/schneider50k/schneider50k.tsv'  # 此处可以导入 uspto 作为背景\n",
    "REACTION_IN_DATA = 'reaction'\n",
    "REACTION_IN_USPTO_50k = 'rxn'\n",
    "SUBCLASS = 'solvent'"
   ]
  },
  {
   "cell_type": "code",
   "execution_count": 119,
   "metadata": {},
   "outputs": [],
   "source": [
    "NAME = BASE_NAME + '_' + SUBCLASS"
   ]
  },
  {
   "cell_type": "code",
   "execution_count": 120,
   "metadata": {
    "collapsed": false,
    "pycharm": {
     "name": "#%%\n"
    }
   },
   "outputs": [],
   "source": [
    "df_datas = []\n",
    "for DATA in DATAS:\n",
    "    df_datas.append(pd.read_excel(DATA, engine='openpyxl'))  # use openpyxl for better excel\n",
    "df_data = pd.concat(df_datas)\n",
    "df_data.dropna(subset=['photocatalyst'], inplace=True)  # xlsx 的最后面往往都是空的\n",
    "df_data = df_data.reset_index(drop=True)  # 保证顺序"
   ]
  },
  {
   "cell_type": "code",
   "execution_count": 121,
   "metadata": {
    "collapsed": false,
    "pycharm": {
     "name": "#%%\n"
    }
   },
   "outputs": [
    {
     "data": {
      "text/plain": [
       "6068"
      ]
     },
     "execution_count": 121,
     "metadata": {},
     "output_type": "execute_result"
    }
   ],
   "source": [
    "len(df_data)"
   ]
  },
  {
   "cell_type": "code",
   "execution_count": 122,
   "metadata": {
    "collapsed": false,
    "pycharm": {
     "name": "#%%\n"
    }
   },
   "outputs": [
    {
     "name": "stderr",
     "output_type": "stream",
     "text": [
      "[17:27:44] Explicit valence for atom # 3 Br, 3, is greater than permitted\n",
      "[17:27:44] Explicit valence for atom # 1 N, 4, is greater than permitted\n",
      "[17:27:44] Explicit valence for atom # 1 N, 4, is greater than permitted\n",
      "[17:27:45] SMILES Parse Error: syntax error while parsing: [H2O18]\n",
      "[17:27:45] SMILES Parse Error: Failed parsing SMILES '[H2O18]' for input: '[H2O18]'\n",
      "[17:27:46] Explicit valence for atom # 3 Br, 3, is greater than permitted\n",
      "[17:27:46] Explicit valence for atom # 0 Cl, 2, is greater than permitted\n",
      "[17:27:47] Explicit valence for atom # 6 S, 8, is greater than permitted\n",
      "[17:27:47] SMILES Parse Error: syntax error while parsing: vCC1=CC=NC2=CC=CC=C21\n",
      "[17:27:47] SMILES Parse Error: Failed parsing SMILES 'vCC1=CC=NC2=CC=CC=C21' for input: 'vCC1=CC=NC2=CC=CC=C21'\n"
     ]
    },
    {
     "name": "stdout",
     "output_type": "stream",
     "text": [
      "n_error: 10\n",
      "6058\n"
     ]
    }
   ],
   "source": [
    "# 标准化反应\n",
    "from rdkit import Chem\n",
    "def con_smi(smi: str):\n",
    "    return Chem.MolToSmiles(Chem.MolFromSmiles(smi), canonical=True)\n",
    "def con_rxn(rxn: str):\n",
    "    new_rxn = rxn.split('>>')\n",
    "    r = new_rxn[0]\n",
    "    p = new_rxn[1]\n",
    "    new_r = '.'.join([con_smi(x) for x in r.split('.')])\n",
    "    new_p = con_smi(p)\n",
    "    return new_r + '>>' + new_p\n",
    "df_data['con_rxn'] = None\n",
    "n_error = 0\n",
    "for i, row in df_data.iterrows():\n",
    "    try:\n",
    "        df_data.at[i, 'con_rxn'] = con_rxn(row['reaction'])\n",
    "    except:\n",
    "        n_error += 1\n",
    "print(f'n_error: {n_error}')\n",
    "df_data.dropna(subset=['con_rxn'], inplace=True)  # xlsx 的最后面往往都是空的\n",
    "print(len(df_data))"
   ]
  },
  {
   "cell_type": "code",
   "execution_count": 123,
   "metadata": {
    "collapsed": false,
    "pycharm": {
     "name": "#%%\n"
    }
   },
   "outputs": [
    {
     "name": "stdout",
     "output_type": "stream",
     "text": [
      "43\n"
     ]
    },
    {
     "name": "stderr",
     "output_type": "stream",
     "text": [
      "  0%|          | 0/6058 [00:00<?, ?it/s]/home/seeyou/anaconda3/envs/rdkit/lib/python3.7/site-packages/ipykernel_launcher.py:16: SettingWithCopyWarning: \n",
      "A value is trying to be set on a copy of a slice from a DataFrame\n",
      "\n",
      "See the caveats in the documentation: https://pandas.pydata.org/pandas-docs/stable/user_guide/indexing.html#returning-a-view-versus-a-copy\n",
      "  app.launch_new_instance()\n",
      "100%|██████████| 6058/6058 [00:01<00:00, 4053.52it/s]"
     ]
    },
    {
     "name": "stdout",
     "output_type": "stream",
     "text": [
      "defaultdict(<function <lambda> at 0x7fe703492170>, {'MeCN': 0, 'DCM': 1, 'DMSO': 2, 'DMF': 3, 'DCE': 4, 'Methanol': 5, '1,4-dioxane': 6, 'actone': 7, 'DCM/toluene': 8, 'ethanol': 9, 'actetone': 10, 'acetone': 11, 'DMA': 12, 'MeCN/H2O': 13, 'MeCN,H2O': 14, 'DMF,MeOH': 15, 'DCM,H2O': 16, 'ethanol,H2O': 17, 'Toluene/MeCN': 18, 'PhH': 19, 'i-PrOH': 20, 'MeCN, H2O': 21, 'CF3CH2OH': 22, 'PhCF3': 23, 'actetone, ethyl acetate ': 24, 't-amyl-OH': 25, 'DME,DMF': 26, 'ethyl acetate': 27, 'Methanol,DMSO': 28, 'toluene, H2O': 29, 'TFE': 30, 'CHCl3': 31, 'EtOH': 32, 'NMP,PhCl': 33, 'THF': 34, '1,4-dioxane,MeCN': 35, 'actone/H2O': 36, 'DCM/MeCN': 37, 'DMF/H2O': 38, 'MeCN、DMSO': 39, 'MeOH': 40, 'DMA/H2O': 41, 'propanol': 42})\n",
      "defaultdict(<function <lambda> at 0x7fe70348add0>, {0: 'MeCN', 1: 'DCM', 2: 'DMSO', 3: 'DMF', 4: 'DCE', 5: 'Methanol', 6: '1,4-dioxane', 7: 'actone', 8: 'DCM/toluene', 9: 'ethanol', 10: 'actetone', 11: 'acetone', 12: 'DMA', 13: 'MeCN/H2O', 14: 'MeCN,H2O', 15: 'DMF,MeOH', 16: 'DCM,H2O', 17: 'ethanol,H2O', 18: 'Toluene/MeCN', 19: 'PhH', 20: 'i-PrOH', 21: 'MeCN, H2O', 22: 'CF3CH2OH', 23: 'PhCF3', 24: 'actetone, ethyl acetate ', 25: 't-amyl-OH', 26: 'DME,DMF', 27: 'ethyl acetate', 28: 'Methanol,DMSO', 29: 'toluene, H2O', 30: 'TFE', 31: 'CHCl3', 32: 'EtOH', 33: 'NMP,PhCl', 34: 'THF', 35: '1,4-dioxane,MeCN', 36: 'actone/H2O', 37: 'DCM/MeCN', 38: 'DMF/H2O', 39: 'MeCN、DMSO', 40: 'MeOH', 41: 'DMA/H2O', 42: 'propanol'})\n"
     ]
    },
    {
     "name": "stderr",
     "output_type": "stream",
     "text": [
      "\n"
     ]
    }
   ],
   "source": [
    "# 根据光催化剂类型生成索引\n",
    "_class = SUBCLASS + '_class'\n",
    "df_data[_class] = ''\n",
    "cat_list = df_data[SUBCLASS].value_counts().index.to_list()\n",
    "n_catalysis = len(cat_list)\n",
    "print(n_catalysis)\n",
    "\n",
    "# 将每类映射成 int\n",
    "from collections import defaultdict\n",
    "map_dict = defaultdict(lambda : n_catalysis)\n",
    "for v, k in enumerate(cat_list):\n",
    "    map_dict[k] = v\n",
    "\n",
    "# 将种类信息写入 df\n",
    "for i, row in tqdm(df_data.iterrows(), total=len(df_data)):\n",
    "    df_data[_class][i] = map_dict[row[SUBCLASS]]\n",
    "\n",
    "# 创建逆映射字典，以备后用\n",
    "_reverse_map_dict = {v: k for k,v in map_dict.items()}\n",
    "reverse_map_dict = defaultdict(lambda : 'None')\n",
    "for k, v in _reverse_map_dict.items():\n",
    "    reverse_map_dict[k] = v\n",
    "print(map_dict)\n",
    "print(reverse_map_dict)"
   ]
  },
  {
   "cell_type": "code",
   "execution_count": 124,
   "metadata": {
    "collapsed": false,
    "pycharm": {
     "name": "#%%\n"
    }
   },
   "outputs": [
    {
     "name": "stderr",
     "output_type": "stream",
     "text": [
      "Some weights of the model checkpoint at /home/seeyou/anaconda3/envs/rdkit/lib/python3.7/site-packages/rxnfp/models/transformers/bert_ft_10k_25s were not used when initializing BertModel: ['classifier.bias', 'classifier.weight']\n",
      "- This IS expected if you are initializing BertModel from the checkpoint of a model trained on another task or with another architecture (e.g. initializing a BertForSequenceClassification model from a BertForPreTraining model).\n",
      "- This IS NOT expected if you are initializing BertModel from the checkpoint of a model that you expect to be exactly identical (initializing a BertForSequenceClassification model from a BertForSequenceClassification model).\n",
      "100%|██████████| 757/757 [00:07<00:00, 108.02it/s]\n"
     ]
    }
   ],
   "source": [
    "model, tokenizer = get_default_model_and_tokenizer('bert_ft_10k_25s')\n",
    "ft_rxnfp_generator = RXNBERTFingerprintGenerator(model, tokenizer)\n",
    "fps_ft_data = generate_fingerprints(df_data.reaction.values.tolist(), ft_rxnfp_generator, batch_size=8)"
   ]
  },
  {
   "cell_type": "code",
   "execution_count": 125,
   "metadata": {
    "collapsed": false,
    "pycharm": {
     "name": "#%%\n"
    }
   },
   "outputs": [
    {
     "name": "stderr",
     "output_type": "stream",
     "text": [
      "100%|██████████| 6056/6056 [00:01<00:00, 4756.84it/s]\n"
     ]
    }
   ],
   "source": [
    "lf = tm.LSHForest(256, 128)\n",
    "mh_encoder = tm.Minhash()\n",
    "# slow\n",
    "mhfps = [mh_encoder.from_weight_array(fp.tolist(), method=\"I2CWS\") for fp in tqdm(fps_ft_data)]"
   ]
  },
  {
   "cell_type": "code",
   "execution_count": 126,
   "metadata": {
    "collapsed": false,
    "pycharm": {
     "name": "#%%\n"
    }
   },
   "outputs": [
    {
     "data": {
      "text/html": [
       "<div>\n",
       "<style scoped>\n",
       "    .dataframe tbody tr th:only-of-type {\n",
       "        vertical-align: middle;\n",
       "    }\n",
       "\n",
       "    .dataframe tbody tr th {\n",
       "        vertical-align: top;\n",
       "    }\n",
       "\n",
       "    .dataframe thead th {\n",
       "        text-align: right;\n",
       "    }\n",
       "</style>\n",
       "<table border=\"1\" class=\"dataframe\">\n",
       "  <thead>\n",
       "    <tr style=\"text-align: right;\">\n",
       "      <th></th>\n",
       "      <th>reaction</th>\n",
       "      <th>photocatalyst</th>\n",
       "      <th>base</th>\n",
       "      <th>additive</th>\n",
       "      <th>solvent</th>\n",
       "      <th>time(h)</th>\n",
       "      <th>yield/%</th>\n",
       "      <th>source</th>\n",
       "      <th>Unnamed: 8</th>\n",
       "      <th>Unnamed: 9</th>\n",
       "      <th>Unnamed: 10</th>\n",
       "      <th>base/acid</th>\n",
       "      <th>con_rxn</th>\n",
       "      <th>solvent_class</th>\n",
       "    </tr>\n",
       "  </thead>\n",
       "  <tbody>\n",
       "    <tr>\n",
       "      <th>0</th>\n",
       "      <td>C=CC1=CC=CC=C1.FC([S+]2C3=C(C=CC=C3)C4=C2C=CC=...</td>\n",
       "      <td>fac-Ir(ppy)3</td>\n",
       "      <td>NaN</td>\n",
       "      <td>NaN</td>\n",
       "      <td>DCE</td>\n",
       "      <td>2.0</td>\n",
       "      <td>78</td>\n",
       "      <td>Angew. Chem., Int. Ed., 2012, 51, 9567–9571</td>\n",
       "      <td>37.0</td>\n",
       "      <td>1.0</td>\n",
       "      <td>NaN</td>\n",
       "      <td>NaN</td>\n",
       "      <td>C=Cc1ccccc1.FC(F)(F)[s+]1c2ccccc2c2ccccc21.F[B...</td>\n",
       "      <td>4</td>\n",
       "    </tr>\n",
       "    <tr>\n",
       "      <th>1</th>\n",
       "      <td>C=CC1=CC=CC=C1.FC([S+]2C3=C(C=CC=C3)C4=C2C=CC=...</td>\n",
       "      <td>fac-Ir(ppy)3</td>\n",
       "      <td>NaN</td>\n",
       "      <td>NaN</td>\n",
       "      <td>DCE</td>\n",
       "      <td>2.0</td>\n",
       "      <td>75</td>\n",
       "      <td>Angew. Chem., Int. Ed., 2012, 51, 9567–9571</td>\n",
       "      <td>37.0</td>\n",
       "      <td>2.0</td>\n",
       "      <td>NaN</td>\n",
       "      <td>NaN</td>\n",
       "      <td>C=Cc1ccccc1.FC(F)(F)[s+]1c2ccccc2c2ccccc21.F[B...</td>\n",
       "      <td>4</td>\n",
       "    </tr>\n",
       "    <tr>\n",
       "      <th>2</th>\n",
       "      <td>C=CC1=CC=CC=C1.FC([S+]2C3=C(C=CC=C3)C4=C2C=CC=...</td>\n",
       "      <td>fac-Ir(ppy)3</td>\n",
       "      <td>NaN</td>\n",
       "      <td>NaN</td>\n",
       "      <td>DCE</td>\n",
       "      <td>2.0</td>\n",
       "      <td>76</td>\n",
       "      <td>Angew. Chem., Int. Ed., 2012, 51, 9567–9571</td>\n",
       "      <td>37.0</td>\n",
       "      <td>3.0</td>\n",
       "      <td>NaN</td>\n",
       "      <td>NaN</td>\n",
       "      <td>C=Cc1ccccc1.FC(F)(F)[s+]1c2ccccc2c2ccccc21.F[B...</td>\n",
       "      <td>4</td>\n",
       "    </tr>\n",
       "    <tr>\n",
       "      <th>3</th>\n",
       "      <td>C=CC1=CC=CC=C1.FC([S+]2C3=C(C=CC=C3)C4=C2C=CC=...</td>\n",
       "      <td>fac-Ir(ppy)3</td>\n",
       "      <td>NaN</td>\n",
       "      <td>NaN</td>\n",
       "      <td>DCE</td>\n",
       "      <td>2.0</td>\n",
       "      <td>84</td>\n",
       "      <td>Angew. Chem., Int. Ed., 2012, 51, 9567–9571</td>\n",
       "      <td>37.0</td>\n",
       "      <td>4.0</td>\n",
       "      <td>NaN</td>\n",
       "      <td>NaN</td>\n",
       "      <td>C=Cc1ccccc1.FC(F)(F)[s+]1c2ccccc2c2ccccc21.F[B...</td>\n",
       "      <td>4</td>\n",
       "    </tr>\n",
       "    <tr>\n",
       "      <th>4</th>\n",
       "      <td>C=CC1=CC=CC=C1.FC([S+]2C3=C(C=CC=C3)C4=C2C=CC=...</td>\n",
       "      <td>fac-Ir(ppy)3</td>\n",
       "      <td>NaN</td>\n",
       "      <td>NaN</td>\n",
       "      <td>DCE</td>\n",
       "      <td>2.0</td>\n",
       "      <td>51</td>\n",
       "      <td>Angew. Chem., Int. Ed., 2012, 51, 9567–9571</td>\n",
       "      <td>37.0</td>\n",
       "      <td>5.0</td>\n",
       "      <td>NaN</td>\n",
       "      <td>NaN</td>\n",
       "      <td>C=Cc1ccccc1.FC(F)(F)[s+]1c2ccccc2c2ccccc21.F[B...</td>\n",
       "      <td>4</td>\n",
       "    </tr>\n",
       "  </tbody>\n",
       "</table>\n",
       "</div>"
      ],
      "text/plain": [
       "                                            reaction photocatalyst base  \\\n",
       "0  C=CC1=CC=CC=C1.FC([S+]2C3=C(C=CC=C3)C4=C2C=CC=...  fac-Ir(ppy)3  NaN   \n",
       "1  C=CC1=CC=CC=C1.FC([S+]2C3=C(C=CC=C3)C4=C2C=CC=...  fac-Ir(ppy)3  NaN   \n",
       "2  C=CC1=CC=CC=C1.FC([S+]2C3=C(C=CC=C3)C4=C2C=CC=...  fac-Ir(ppy)3  NaN   \n",
       "3  C=CC1=CC=CC=C1.FC([S+]2C3=C(C=CC=C3)C4=C2C=CC=...  fac-Ir(ppy)3  NaN   \n",
       "4  C=CC1=CC=CC=C1.FC([S+]2C3=C(C=CC=C3)C4=C2C=CC=...  fac-Ir(ppy)3  NaN   \n",
       "\n",
       "  additive solvent  time(h) yield/%  \\\n",
       "0      NaN     DCE      2.0      78   \n",
       "1      NaN     DCE      2.0      75   \n",
       "2      NaN     DCE      2.0      76   \n",
       "3      NaN     DCE      2.0      84   \n",
       "4      NaN     DCE      2.0      51   \n",
       "\n",
       "                                        source  Unnamed: 8  Unnamed: 9  \\\n",
       "0  Angew. Chem., Int. Ed., 2012, 51, 9567–9571        37.0         1.0   \n",
       "1  Angew. Chem., Int. Ed., 2012, 51, 9567–9571        37.0         2.0   \n",
       "2  Angew. Chem., Int. Ed., 2012, 51, 9567–9571        37.0         3.0   \n",
       "3  Angew. Chem., Int. Ed., 2012, 51, 9567–9571        37.0         4.0   \n",
       "4  Angew. Chem., Int. Ed., 2012, 51, 9567–9571        37.0         5.0   \n",
       "\n",
       "   Unnamed: 10 base/acid                                            con_rxn  \\\n",
       "0          NaN       NaN  C=Cc1ccccc1.FC(F)(F)[s+]1c2ccccc2c2ccccc21.F[B...   \n",
       "1          NaN       NaN  C=Cc1ccccc1.FC(F)(F)[s+]1c2ccccc2c2ccccc21.F[B...   \n",
       "2          NaN       NaN  C=Cc1ccccc1.FC(F)(F)[s+]1c2ccccc2c2ccccc21.F[B...   \n",
       "3          NaN       NaN  C=Cc1ccccc1.FC(F)(F)[s+]1c2ccccc2c2ccccc21.F[B...   \n",
       "4          NaN       NaN  C=Cc1ccccc1.FC(F)(F)[s+]1c2ccccc2c2ccccc21.F[B...   \n",
       "\n",
       "  solvent_class  \n",
       "0             4  \n",
       "1             4  \n",
       "2             4  \n",
       "3             4  \n",
       "4             4  "
      ]
     },
     "execution_count": 126,
     "metadata": {},
     "output_type": "execute_result"
    }
   ],
   "source": [
    "df_data.head()"
   ]
  },
  {
   "cell_type": "code",
   "execution_count": 127,
   "metadata": {
    "collapsed": false,
    "pycharm": {
     "name": "#%%\n"
    }
   },
   "outputs": [
    {
     "name": "stderr",
     "output_type": "stream",
     "text": [
      "100%|██████████| 6058/6058 [00:03<00:00, 1805.09it/s]\n"
     ]
    }
   ],
   "source": [
    "# slow\n",
    "\n",
    "labels = []\n",
    "# superclasses\n",
    "superclasses = []\n",
    "\n",
    "# product properties\n",
    "tpsa = []\n",
    "logp = []\n",
    "mw = []\n",
    "h_acceptors = []\n",
    "h_donors = []\n",
    "ring_count = []\n",
    "\n",
    "# metals in precursors\n",
    "has_Pd = []\n",
    "has_Li = []\n",
    "has_Mg = []\n",
    "has_Al = []\n",
    "\n",
    "n_errors = 0  # 记录错误个数\n",
    "\n",
    "for i, row in tqdm(df_data.iterrows(), total=len(df_data)):\n",
    "    try:\n",
    "        rxn = row[\"reaction\"]\n",
    "        labels.append(\n",
    "            str(rxn)\n",
    "            + \"__\"\n",
    "            + str(rxn)\n",
    "            + f\"__source: {row['source']}\"\n",
    "            + f\"__solvent: {row['solvent']} yield/%: {row['yield/%']} base: {row['base']} additive: {row['additive']}\"\n",
    "        )\n",
    "        superclasses.append(int(row[_class]))\n",
    "\n",
    "        precursors, products = rxn.split('>>')\n",
    "\n",
    "        mol = Chem.MolFromSmiles(products)\n",
    "\n",
    "        tpsa.append(Descriptors.TPSA(mol))\n",
    "        logp.append(Descriptors.MolLogP(mol))\n",
    "        mw.append(Descriptors.MolWt(mol))\n",
    "        h_acceptors.append(Descriptors.NumHAcceptors(mol))\n",
    "        h_donors.append(Descriptors.NumHDonors(mol))\n",
    "        ring_count.append(Descriptors.RingCount(mol))\n",
    "\n",
    "        has_Pd.append('Pd' in precursors)\n",
    "        has_Li.append('Li' in precursors)\n",
    "        has_Mg.append('Mg' in precursors)\n",
    "        has_Al.append('Al' in precursors)\n",
    "    except:\n",
    "        print(i, row[\"reaction\"])  # 记录错误位置"
   ]
  },
  {
   "cell_type": "code",
   "execution_count": 128,
   "metadata": {
    "collapsed": false,
    "pycharm": {
     "name": "#%%\n"
    }
   },
   "outputs": [
    {
     "data": {
      "text/plain": [
       "[(0, '0 - MeCN'),\n",
       " (1, '1 - DCM'),\n",
       " (2, '2 - DMSO'),\n",
       " (3, '3 - DMF'),\n",
       " (4, '4 - DCE'),\n",
       " (5, '5 - Methanol'),\n",
       " (6, '6 - 1,4-dioxane'),\n",
       " (7, '7 - actone'),\n",
       " (8, '8 - DCM/toluene'),\n",
       " (9, '9 - ethanol'),\n",
       " (10, '10 - actetone'),\n",
       " (11, '11 - acetone'),\n",
       " (12, '12 - DMA'),\n",
       " (13, '13 - MeCN/H2O'),\n",
       " (14, '14 - MeCN,H2O'),\n",
       " (15, '15 - DMF,MeOH'),\n",
       " (16, '16 - DCM,H2O'),\n",
       " (17, '17 - ethanol,H2O'),\n",
       " (18, '18 - Toluene/MeCN'),\n",
       " (19, '19 - PhH'),\n",
       " (20, '20 - i-PrOH'),\n",
       " (21, '21 - MeCN, H2O'),\n",
       " (22, '22 - CF3CH2OH'),\n",
       " (23, '23 - PhCF3'),\n",
       " (24, '24 - actetone, ethyl acetate '),\n",
       " (25, '25 - t-amyl-OH'),\n",
       " (26, '26 - DME,DMF'),\n",
       " (27, '27 - ethyl acetate'),\n",
       " (28, '28 - Methanol,DMSO'),\n",
       " (29, '29 - toluene, H2O'),\n",
       " (30, '30 - TFE'),\n",
       " (31, '31 - CHCl3'),\n",
       " (32, '32 - EtOH'),\n",
       " (33, '33 - NMP,PhCl'),\n",
       " (34, '34 - THF'),\n",
       " (35, '35 - 1,4-dioxane,MeCN'),\n",
       " (36, '36 - actone/H2O'),\n",
       " (37, '37 - DCM/MeCN'),\n",
       " (38, '38 - DMF/H2O'),\n",
       " (39, '39 - MeCN、DMSO'),\n",
       " (40, '40 - MeOH'),\n",
       " (41, '41 - DMA/H2O'),\n",
       " (42, '42 - propanol')]"
      ]
     },
     "execution_count": 128,
     "metadata": {},
     "output_type": "execute_result"
    }
   ],
   "source": [
    "tpsa_ranked = stats.rankdata(np.array(tpsa) / max(tpsa)) / len(tpsa)\n",
    "logp_ranked = stats.rankdata(np.array(logp) / max(logp)) / len(logp)\n",
    "mw_ranked = stats.rankdata(np.array(mw) / max(mw)) / len(mw)\n",
    "h_acceptors_ranked = stats.rankdata(np.array(h_acceptors) / max(h_acceptors)) / len(\n",
    "    h_acceptors\n",
    ")\n",
    "h_donors_ranked = stats.rankdata(np.array(h_donors) / max(h_donors)) / len(h_donors)\n",
    "ring_count_ranked = stats.rankdata(np.array(ring_count) / max(ring_count)) / len(\n",
    "    ring_count\n",
    ")\n",
    "labels_groups, groups = Faerun.create_categories(superclasses)\n",
    "labels_groups = [(label[0], f\"{label[1]} - {reverse_map_dict[label[1]]}\") for label in labels_groups]\n",
    "labels_groups"
   ]
  },
  {
   "cell_type": "code",
   "execution_count": 129,
   "metadata": {
    "collapsed": false,
    "pycharm": {
     "name": "#%%\n"
    }
   },
   "outputs": [],
   "source": [
    "# slow\n",
    "lf.batch_add(mhfps)\n",
    "lf.index()\n",
    "\n",
    "# Layout\n",
    "cfg = tm.LayoutConfiguration()\n",
    "cfg.k = 50\n",
    "cfg.kc = 50\n",
    "cfg.sl_scaling_min = 1.0\n",
    "cfg.sl_scaling_max = 1.0\n",
    "cfg.sl_repeats = 1\n",
    "cfg.sl_extra_scaling_steps = 2\n",
    "cfg.placer = tm.Placer.Barycenter\n",
    "cfg.merger = tm.Merger.LocalBiconnected\n",
    "cfg.merger_factor = 2.0\n",
    "cfg.merger_adjustment = 0\n",
    "cfg.fme_iterations = 1000\n",
    "cfg.sl_scaling_type = tm.ScalingType.RelativeToDesiredLength\n",
    "cfg.node_size = 1 / 37\n",
    "cfg.mmm_repeats = 1\n",
    "\n",
    "# Define colormaps\n",
    "set1 = plt.get_cmap(\"Set1\").colors\n",
    "rainbow = plt.get_cmap(\"rainbow\")\n",
    "colors = rainbow(np.linspace(0, 1, len(set(groups))))[:, :3].tolist()\n",
    "custom_cm = LinearSegmentedColormap.from_list(\"my_map\", colors, N=len(colors))\n",
    "bin_cmap = ListedColormap([set1[8], \"#5400F6\"], name=\"bin_cmap\")\n",
    "\n",
    "# Get tree coordinates\n",
    "x, y, s, t, _ = tm.layout_from_lsh_forest(lf, config=cfg)"
   ]
  },
  {
   "cell_type": "code",
   "execution_count": 130,
   "metadata": {
    "collapsed": false,
    "pycharm": {
     "name": "#%%\n"
    }
   },
   "outputs": [],
   "source": [
    "# slow\n",
    "f = Faerun(clear_color=\"#000000\", coords=False, view=\"front\",)\n",
    "\n",
    "f.add_scatter(\n",
    "\"ReactionAtlas\",\n",
    "{\n",
    "    \"x\": x, \"y\": y,\n",
    "    \"c\": [\n",
    "        groups, # superclasses\n",
    "        has_Pd,\n",
    "        has_Li,\n",
    "        has_Mg,\n",
    "        has_Al,\n",
    "        tpsa_ranked,\n",
    "        logp_ranked,\n",
    "        mw_ranked,\n",
    "        h_acceptors_ranked,\n",
    "        h_donors_ranked,\n",
    "        ring_count_ranked,\n",
    "    ],\n",
    "    \"labels\": labels\n",
    "},\n",
    "shader=\"smoothCircle\",\n",
    "colormap=[\n",
    "    custom_cm,\n",
    "    bin_cmap,\n",
    "    bin_cmap,\n",
    "    bin_cmap,\n",
    "    bin_cmap,\n",
    "    \"rainbow\",\n",
    "    \"rainbow\",\n",
    "    \"rainbow\",\n",
    "    \"rainbow\",\n",
    "    \"rainbow\",\n",
    "    \"rainbow\",\n",
    "\n",
    "],\n",
    "point_scale=6.0,\n",
    "categorical=[\n",
    "    True,\n",
    "    True,\n",
    "    True,\n",
    "    True,\n",
    "    True,\n",
    "    False,\n",
    "    False,\n",
    "    False,\n",
    "    False,\n",
    "    False,\n",
    "    False,\n",
    "],\n",
    "has_legend=True,\n",
    "legend_labels=[\n",
    "    labels_groups,\n",
    "    [(0, \"No\"), (1, \"Yes\")],\n",
    "    [(0, \"No\"), (1, \"Yes\")],\n",
    "    [(0, \"No\"), (1, \"Yes\")],\n",
    "    [(0, \"No\"), (1, \"Yes\")],\n",
    "    None,\n",
    "    None,\n",
    "    None,\n",
    "    None,\n",
    "    None,\n",
    "    None,\n",
    "],\n",
    "selected_labels=[\"SMILES\", \"SMILES\", \"Patent ID\",  \"Named Reaction\", \"Category\", \"Superclass\"],\n",
    "series_title=[\n",
    "    \"Superclass\",\n",
    "    \"Pd\",\n",
    "    \"Li\",\n",
    "    \"Mg\",\n",
    "    \"Al\",\n",
    "    \"TPSA\",\n",
    "    \"logP\",\n",
    "    \"Mol Weight\",\n",
    "    \"H Acceptors\",\n",
    "    \"H Donors\",\n",
    "    \"Ring Count\",\n",
    "],\n",
    "max_legend_label=[\n",
    "    None,\n",
    "    None,\n",
    "    None,\n",
    "    None,\n",
    "    None,\n",
    "    str(round(max(tpsa))),\n",
    "    str(round(max(logp))),\n",
    "    str(round(max(mw))),\n",
    "    str(round(max(h_acceptors))),\n",
    "    str(round(max(h_donors))),\n",
    "    str(round(max(ring_count))),\n",
    "],\n",
    "min_legend_label=[\n",
    "    None,\n",
    "    None,\n",
    "    None,\n",
    "    None,\n",
    "    None,\n",
    "    str(round(min(tpsa))),\n",
    "    str(round(min(logp))),\n",
    "    str(round(min(mw))),\n",
    "    str(round(min(h_acceptors))),\n",
    "    str(round(min(h_donors))),\n",
    "    str(round(min(ring_count))),\n",
    "],\n",
    "title_index=2,\n",
    "legend_title=NAME,\n",
    ")\n",
    "\n",
    "f.add_tree(\"reactiontree\", {\"from\": s, \"to\": t}, point_helper=\"ReactionAtlas\")"
   ]
  },
  {
   "cell_type": "code",
   "execution_count": 131,
   "metadata": {
    "collapsed": false,
    "pycharm": {
     "name": "#%%\n"
    }
   },
   "outputs": [
    {
     "data": {
      "text/html": [
       "\n",
       "        <iframe\n",
       "            width=\"100%\"\n",
       "            height=\"500\"\n",
       "            src=\"./light_solvent.html\"\n",
       "            frameborder=\"0\"\n",
       "            allowfullscreen\n",
       "            \n",
       "        ></iframe>\n",
       "        "
      ],
      "text/plain": [
       "<IPython.lib.display.IFrame at 0x7fe76af575d0>"
      ]
     },
     "metadata": {},
     "output_type": "display_data"
    },
    {
     "data": {
      "text/html": [
       "<a href='./light_solvent.html' target='_blank'>./light_solvent.html</a><br>"
      ],
      "text/plain": [
       "/z/projects/xjc/light/cluster_tmap/light_solvent.html"
      ]
     },
     "metadata": {},
     "output_type": "display_data"
    }
   ],
   "source": [
    "# slow\n",
    "plot = f.plot(NAME, template=\"reaction_smiles\")"
   ]
  },
  {
   "cell_type": "code",
   "execution_count": null,
   "metadata": {
    "collapsed": false,
    "pycharm": {
     "name": "#%%\n"
    }
   },
   "outputs": [],
   "source": []
  }
 ],
 "metadata": {
  "kernelspec": {
   "display_name": "Python 3.7.11 ('rdkit')",
   "language": "python",
   "name": "python3"
  },
  "language_info": {
   "codemirror_mode": {
    "name": "ipython",
    "version": 3
   },
   "file_extension": ".py",
   "mimetype": "text/x-python",
   "name": "python",
   "nbconvert_exporter": "python",
   "pygments_lexer": "ipython3",
   "version": "3.7.11"
  },
  "vscode": {
   "interpreter": {
    "hash": "11c991b54abeaf56fe1bdb3b6c0147bbd0f9619edf3fdc730c7aa820fb5f242a"
   }
  }
 },
 "nbformat": 4,
 "nbformat_minor": 0
}
