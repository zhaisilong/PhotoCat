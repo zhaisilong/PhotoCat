{
 "cells": [
  {
   "cell_type": "code",
   "execution_count": 1,
   "metadata": {
    "collapsed": true
   },
   "outputs": [],
   "source": [
    "import pandas as pd\n",
    "from pathlib import Path\n",
    "from z.utils import set_seeds, kfold, get_CV"
   ]
  },
  {
   "cell_type": "code",
   "execution_count": 2,
   "metadata": {
    "collapsed": false
   },
   "outputs": [],
   "source": [
    "SEED = 42\n",
    "RAW = Path('./data.csv')\n",
    "OUT = Path('./data_biocatalysis.csv')"
   ]
  },
  {
   "cell_type": "code",
   "execution_count": 3,
   "metadata": {
    "collapsed": false
   },
   "outputs": [],
   "source": [
    "set_seeds(SEED)"
   ]
  },
  {
   "cell_type": "code",
   "execution_count": 4,
   "metadata": {
    "collapsed": false
   },
   "outputs": [],
   "source": [
    "df = pd.read_csv(RAW, index_col = 0)"
   ]
  },
  {
   "cell_type": "code",
   "execution_count": 5,
   "metadata": {
    "collapsed": false
   },
   "outputs": [
    {
     "name": "stdout",
     "output_type": "stream",
     "text": [
      "6175\n"
     ]
    },
    {
     "data": {
      "text/html": [
       "<div>\n",
       "<style scoped>\n",
       "    .dataframe tbody tr th:only-of-type {\n",
       "        vertical-align: middle;\n",
       "    }\n",
       "\n",
       "    .dataframe tbody tr th {\n",
       "        vertical-align: top;\n",
       "    }\n",
       "\n",
       "    .dataframe thead th {\n",
       "        text-align: right;\n",
       "    }\n",
       "</style>\n",
       "<table border=\"1\" class=\"dataframe\">\n",
       "  <thead>\n",
       "    <tr style=\"text-align: right;\">\n",
       "      <th></th>\n",
       "      <th>reaction</th>\n",
       "      <th>photocatalyst</th>\n",
       "      <th>base</th>\n",
       "      <th>additive</th>\n",
       "      <th>solvent</th>\n",
       "      <th>time(h)</th>\n",
       "      <th>yield/%</th>\n",
       "      <th>source</th>\n",
       "      <th>Unnamed: 8</th>\n",
       "      <th>Unnamed: 9</th>\n",
       "      <th>Unnamed: 10</th>\n",
       "      <th>base/acid</th>\n",
       "      <th>canonized_rxns</th>\n",
       "      <th>cat_class</th>\n",
       "      <th>base_class</th>\n",
       "      <th>additive_class</th>\n",
       "      <th>solvent_class</th>\n",
       "    </tr>\n",
       "  </thead>\n",
       "  <tbody>\n",
       "    <tr>\n",
       "      <th>0</th>\n",
       "      <td>C=CC1=CC=CC=C1.FC([S+]2C3=C(C=CC=C3)C4=C2C=CC=...</td>\n",
       "      <td>fac-Ir(ppy)3</td>\n",
       "      <td>NaN</td>\n",
       "      <td>NaN</td>\n",
       "      <td>DCE</td>\n",
       "      <td>2.0</td>\n",
       "      <td>78</td>\n",
       "      <td>Angew. Chem., Int. Ed., 2012, 51, 9567–9571</td>\n",
       "      <td>37.0</td>\n",
       "      <td>1.0</td>\n",
       "      <td>NaN</td>\n",
       "      <td>NaN</td>\n",
       "      <td>C=Cc1ccccc1.FC(F)(F)[s+]1c2ccccc2c2ccccc21.F[B...</td>\n",
       "      <td>1</td>\n",
       "      <td>0</td>\n",
       "      <td>0</td>\n",
       "      <td>5</td>\n",
       "    </tr>\n",
       "    <tr>\n",
       "      <th>1</th>\n",
       "      <td>C=CC1=CC=CC=C1.FC([S+]2C3=C(C=CC=C3)C4=C2C=CC=...</td>\n",
       "      <td>fac-Ir(ppy)3</td>\n",
       "      <td>NaN</td>\n",
       "      <td>NaN</td>\n",
       "      <td>DCE</td>\n",
       "      <td>2.0</td>\n",
       "      <td>75</td>\n",
       "      <td>Angew. Chem., Int. Ed., 2012, 51, 9567–9571</td>\n",
       "      <td>37.0</td>\n",
       "      <td>2.0</td>\n",
       "      <td>NaN</td>\n",
       "      <td>NaN</td>\n",
       "      <td>C=Cc1ccccc1.FC(F)(F)[s+]1c2ccccc2c2ccccc21.F[B...</td>\n",
       "      <td>1</td>\n",
       "      <td>0</td>\n",
       "      <td>0</td>\n",
       "      <td>5</td>\n",
       "    </tr>\n",
       "    <tr>\n",
       "      <th>2</th>\n",
       "      <td>C=CC1=CC=CC=C1.FC([S+]2C3=C(C=CC=C3)C4=C2C=CC=...</td>\n",
       "      <td>fac-Ir(ppy)3</td>\n",
       "      <td>NaN</td>\n",
       "      <td>NaN</td>\n",
       "      <td>DCE</td>\n",
       "      <td>2.0</td>\n",
       "      <td>76</td>\n",
       "      <td>Angew. Chem., Int. Ed., 2012, 51, 9567–9571</td>\n",
       "      <td>37.0</td>\n",
       "      <td>3.0</td>\n",
       "      <td>NaN</td>\n",
       "      <td>NaN</td>\n",
       "      <td>C=Cc1ccccc1.FC(F)(F)[s+]1c2ccccc2c2ccccc21.F[B...</td>\n",
       "      <td>1</td>\n",
       "      <td>0</td>\n",
       "      <td>0</td>\n",
       "      <td>5</td>\n",
       "    </tr>\n",
       "    <tr>\n",
       "      <th>3</th>\n",
       "      <td>C=CC1=CC=CC=C1.FC([S+]2C3=C(C=CC=C3)C4=C2C=CC=...</td>\n",
       "      <td>fac-Ir(ppy)3</td>\n",
       "      <td>NaN</td>\n",
       "      <td>NaN</td>\n",
       "      <td>DCE</td>\n",
       "      <td>2.0</td>\n",
       "      <td>84</td>\n",
       "      <td>Angew. Chem., Int. Ed., 2012, 51, 9567–9571</td>\n",
       "      <td>37.0</td>\n",
       "      <td>4.0</td>\n",
       "      <td>NaN</td>\n",
       "      <td>NaN</td>\n",
       "      <td>C=Cc1ccccc1.FC(F)(F)[s+]1c2ccccc2c2ccccc21.F[B...</td>\n",
       "      <td>1</td>\n",
       "      <td>0</td>\n",
       "      <td>0</td>\n",
       "      <td>5</td>\n",
       "    </tr>\n",
       "    <tr>\n",
       "      <th>4</th>\n",
       "      <td>C=CC1=CC=CC=C1.FC([S+]2C3=C(C=CC=C3)C4=C2C=CC=...</td>\n",
       "      <td>fac-Ir(ppy)3</td>\n",
       "      <td>NaN</td>\n",
       "      <td>NaN</td>\n",
       "      <td>DCE</td>\n",
       "      <td>2.0</td>\n",
       "      <td>51</td>\n",
       "      <td>Angew. Chem., Int. Ed., 2012, 51, 9567–9571</td>\n",
       "      <td>37.0</td>\n",
       "      <td>5.0</td>\n",
       "      <td>NaN</td>\n",
       "      <td>NaN</td>\n",
       "      <td>C=Cc1ccccc1.FC(F)(F)[s+]1c2ccccc2c2ccccc21.F[B...</td>\n",
       "      <td>1</td>\n",
       "      <td>0</td>\n",
       "      <td>0</td>\n",
       "      <td>5</td>\n",
       "    </tr>\n",
       "  </tbody>\n",
       "</table>\n",
       "</div>"
      ],
      "text/plain": [
       "                                            reaction photocatalyst base  \\\n",
       "0  C=CC1=CC=CC=C1.FC([S+]2C3=C(C=CC=C3)C4=C2C=CC=...  fac-Ir(ppy)3  NaN   \n",
       "1  C=CC1=CC=CC=C1.FC([S+]2C3=C(C=CC=C3)C4=C2C=CC=...  fac-Ir(ppy)3  NaN   \n",
       "2  C=CC1=CC=CC=C1.FC([S+]2C3=C(C=CC=C3)C4=C2C=CC=...  fac-Ir(ppy)3  NaN   \n",
       "3  C=CC1=CC=CC=C1.FC([S+]2C3=C(C=CC=C3)C4=C2C=CC=...  fac-Ir(ppy)3  NaN   \n",
       "4  C=CC1=CC=CC=C1.FC([S+]2C3=C(C=CC=C3)C4=C2C=CC=...  fac-Ir(ppy)3  NaN   \n",
       "\n",
       "  additive solvent  time(h) yield/%  \\\n",
       "0      NaN     DCE      2.0      78   \n",
       "1      NaN     DCE      2.0      75   \n",
       "2      NaN     DCE      2.0      76   \n",
       "3      NaN     DCE      2.0      84   \n",
       "4      NaN     DCE      2.0      51   \n",
       "\n",
       "                                        source  Unnamed: 8  Unnamed: 9  \\\n",
       "0  Angew. Chem., Int. Ed., 2012, 51, 9567–9571        37.0         1.0   \n",
       "1  Angew. Chem., Int. Ed., 2012, 51, 9567–9571        37.0         2.0   \n",
       "2  Angew. Chem., Int. Ed., 2012, 51, 9567–9571        37.0         3.0   \n",
       "3  Angew. Chem., Int. Ed., 2012, 51, 9567–9571        37.0         4.0   \n",
       "4  Angew. Chem., Int. Ed., 2012, 51, 9567–9571        37.0         5.0   \n",
       "\n",
       "   Unnamed: 10 base/acid                                     canonized_rxns  \\\n",
       "0          NaN       NaN  C=Cc1ccccc1.FC(F)(F)[s+]1c2ccccc2c2ccccc21.F[B...   \n",
       "1          NaN       NaN  C=Cc1ccccc1.FC(F)(F)[s+]1c2ccccc2c2ccccc21.F[B...   \n",
       "2          NaN       NaN  C=Cc1ccccc1.FC(F)(F)[s+]1c2ccccc2c2ccccc21.F[B...   \n",
       "3          NaN       NaN  C=Cc1ccccc1.FC(F)(F)[s+]1c2ccccc2c2ccccc21.F[B...   \n",
       "4          NaN       NaN  C=Cc1ccccc1.FC(F)(F)[s+]1c2ccccc2c2ccccc21.F[B...   \n",
       "\n",
       "   cat_class  base_class  additive_class  solvent_class  \n",
       "0          1           0               0              5  \n",
       "1          1           0               0              5  \n",
       "2          1           0               0              5  \n",
       "3          1           0               0              5  \n",
       "4          1           0               0              5  "
      ]
     },
     "execution_count": 5,
     "metadata": {},
     "output_type": "execute_result"
    }
   ],
   "source": [
    "print(len(df))\n",
    "df.head()"
   ]
  },
  {
   "cell_type": "code",
   "execution_count": 6,
   "metadata": {
    "collapsed": false
   },
   "outputs": [],
   "source": [
    "# Format adapting\n",
    "def adapt(row):\n",
    "    _ = row.canonized_rxns.split('>>')  # 标准化后的反应\n",
    "    # V4 调整数据\n",
    "    return f\"{_[0]}|{row.additive_class}.{row.cat_class}.{row.base_class}.{row.solvent_class}>>{_[1]}\"\n",
    "df['smiles'] = df.apply(adapt, axis=1)\n",
    "df['smiles'].to_csv(OUT, header=False, index=False)"
   ]
  },
  {
   "cell_type": "code",
   "execution_count": 6,
   "metadata": {
    "collapsed": false
   },
   "outputs": [],
   "source": []
  }
 ],
 "metadata": {
  "kernelspec": {
   "display_name": "Python 3",
   "language": "python",
   "name": "python3"
  },
  "language_info": {
   "codemirror_mode": {
    "name": "ipython",
    "version": 2
   },
   "file_extension": ".py",
   "mimetype": "text/x-python",
   "name": "python",
   "nbconvert_exporter": "python",
   "pygments_lexer": "ipython2",
   "version": "3.7.13 (default, Mar 23 2022, 16:51:13) \n[GCC 9.4.0]"
  },
  "vscode": {
   "interpreter": {
    "hash": "5372ba7a8027cc10dfa6f9d8662240eafeffbe2cb35fd3289c38e4bd936dd76f"
   }
  }
 },
 "nbformat": 4,
 "nbformat_minor": 0
}
