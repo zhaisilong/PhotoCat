{
 "cells": [
  {
   "cell_type": "code",
   "execution_count": 16,
   "metadata": {
    "collapsed": false
   },
   "outputs": [],
   "source": [
    "from z.utils import read_excel, set_seeds\n",
    "from z.smi import canonize_rxn, canonize_smi\n",
    "from pathlib import Path\n",
    "from collections import defaultdict\n",
    "import pandas as pd"
   ]
  },
  {
   "cell_type": "code",
   "execution_count": 2,
   "metadata": {
    "collapsed": false
   },
   "outputs": [],
   "source": [
    "DIR = Path('raw')\n",
    "SEED = 42\n",
    "DATAS = [DIR / f'{i + 1}.xlsx' for i in range(5)]"
   ]
  },
  {
   "cell_type": "code",
   "execution_count": 3,
   "metadata": {
    "collapsed": false
   },
   "outputs": [],
   "source": [
    "set_seeds(42)"
   ]
  },
  {
   "cell_type": "code",
   "execution_count": 4,
   "metadata": {
    "collapsed": false
   },
   "outputs": [
    {
     "name": "stdout",
     "output_type": "stream",
     "text": [
      "6187\n"
     ]
    },
    {
     "data": {
      "text/html": [
       "<div>\n",
       "<style scoped>\n",
       "    .dataframe tbody tr th:only-of-type {\n",
       "        vertical-align: middle;\n",
       "    }\n",
       "\n",
       "    .dataframe tbody tr th {\n",
       "        vertical-align: top;\n",
       "    }\n",
       "\n",
       "    .dataframe thead th {\n",
       "        text-align: right;\n",
       "    }\n",
       "</style>\n",
       "<table border=\"1\" class=\"dataframe\">\n",
       "  <thead>\n",
       "    <tr style=\"text-align: right;\">\n",
       "      <th></th>\n",
       "      <th>reaction</th>\n",
       "      <th>photocatalyst</th>\n",
       "      <th>base</th>\n",
       "      <th>additive</th>\n",
       "      <th>solvent</th>\n",
       "      <th>time(h)</th>\n",
       "      <th>yield/%</th>\n",
       "      <th>source</th>\n",
       "      <th>Unnamed: 8</th>\n",
       "      <th>Unnamed: 9</th>\n",
       "      <th>Unnamed: 10</th>\n",
       "      <th>base/acid</th>\n",
       "    </tr>\n",
       "  </thead>\n",
       "  <tbody>\n",
       "    <tr>\n",
       "      <th>0</th>\n",
       "      <td>C=CC1=CC=CC=C1.FC([S+]2C3=C(C=CC=C3)C4=C2C=CC=...</td>\n",
       "      <td>fac-Ir(ppy)3</td>\n",
       "      <td>NaN</td>\n",
       "      <td>NaN</td>\n",
       "      <td>DCE</td>\n",
       "      <td>2.0</td>\n",
       "      <td>78</td>\n",
       "      <td>Angew. Chem., Int. Ed., 2012, 51, 9567–9571</td>\n",
       "      <td>37.0</td>\n",
       "      <td>1.0</td>\n",
       "      <td>NaN</td>\n",
       "      <td>NaN</td>\n",
       "    </tr>\n",
       "    <tr>\n",
       "      <th>1</th>\n",
       "      <td>C=CC1=CC=CC=C1.FC([S+]2C3=C(C=CC=C3)C4=C2C=CC=...</td>\n",
       "      <td>fac-Ir(ppy)3</td>\n",
       "      <td>NaN</td>\n",
       "      <td>NaN</td>\n",
       "      <td>DCE</td>\n",
       "      <td>2.0</td>\n",
       "      <td>75</td>\n",
       "      <td>Angew. Chem., Int. Ed., 2012, 51, 9567–9571</td>\n",
       "      <td>37.0</td>\n",
       "      <td>2.0</td>\n",
       "      <td>NaN</td>\n",
       "      <td>NaN</td>\n",
       "    </tr>\n",
       "    <tr>\n",
       "      <th>2</th>\n",
       "      <td>C=CC1=CC=CC=C1.FC([S+]2C3=C(C=CC=C3)C4=C2C=CC=...</td>\n",
       "      <td>fac-Ir(ppy)3</td>\n",
       "      <td>NaN</td>\n",
       "      <td>NaN</td>\n",
       "      <td>DCE</td>\n",
       "      <td>2.0</td>\n",
       "      <td>76</td>\n",
       "      <td>Angew. Chem., Int. Ed., 2012, 51, 9567–9571</td>\n",
       "      <td>37.0</td>\n",
       "      <td>3.0</td>\n",
       "      <td>NaN</td>\n",
       "      <td>NaN</td>\n",
       "    </tr>\n",
       "    <tr>\n",
       "      <th>3</th>\n",
       "      <td>C=CC1=CC=CC=C1.FC([S+]2C3=C(C=CC=C3)C4=C2C=CC=...</td>\n",
       "      <td>fac-Ir(ppy)3</td>\n",
       "      <td>NaN</td>\n",
       "      <td>NaN</td>\n",
       "      <td>DCE</td>\n",
       "      <td>2.0</td>\n",
       "      <td>84</td>\n",
       "      <td>Angew. Chem., Int. Ed., 2012, 51, 9567–9571</td>\n",
       "      <td>37.0</td>\n",
       "      <td>4.0</td>\n",
       "      <td>NaN</td>\n",
       "      <td>NaN</td>\n",
       "    </tr>\n",
       "    <tr>\n",
       "      <th>4</th>\n",
       "      <td>C=CC1=CC=CC=C1.FC([S+]2C3=C(C=CC=C3)C4=C2C=CC=...</td>\n",
       "      <td>fac-Ir(ppy)3</td>\n",
       "      <td>NaN</td>\n",
       "      <td>NaN</td>\n",
       "      <td>DCE</td>\n",
       "      <td>2.0</td>\n",
       "      <td>51</td>\n",
       "      <td>Angew. Chem., Int. Ed., 2012, 51, 9567–9571</td>\n",
       "      <td>37.0</td>\n",
       "      <td>5.0</td>\n",
       "      <td>NaN</td>\n",
       "      <td>NaN</td>\n",
       "    </tr>\n",
       "  </tbody>\n",
       "</table>\n",
       "</div>"
      ],
      "text/plain": [
       "                                            reaction photocatalyst base  \\\n",
       "0  C=CC1=CC=CC=C1.FC([S+]2C3=C(C=CC=C3)C4=C2C=CC=...  fac-Ir(ppy)3  NaN   \n",
       "1  C=CC1=CC=CC=C1.FC([S+]2C3=C(C=CC=C3)C4=C2C=CC=...  fac-Ir(ppy)3  NaN   \n",
       "2  C=CC1=CC=CC=C1.FC([S+]2C3=C(C=CC=C3)C4=C2C=CC=...  fac-Ir(ppy)3  NaN   \n",
       "3  C=CC1=CC=CC=C1.FC([S+]2C3=C(C=CC=C3)C4=C2C=CC=...  fac-Ir(ppy)3  NaN   \n",
       "4  C=CC1=CC=CC=C1.FC([S+]2C3=C(C=CC=C3)C4=C2C=CC=...  fac-Ir(ppy)3  NaN   \n",
       "\n",
       "  additive solvent  time(h) yield/%  \\\n",
       "0      NaN     DCE      2.0      78   \n",
       "1      NaN     DCE      2.0      75   \n",
       "2      NaN     DCE      2.0      76   \n",
       "3      NaN     DCE      2.0      84   \n",
       "4      NaN     DCE      2.0      51   \n",
       "\n",
       "                                        source  Unnamed: 8  Unnamed: 9  \\\n",
       "0  Angew. Chem., Int. Ed., 2012, 51, 9567–9571        37.0         1.0   \n",
       "1  Angew. Chem., Int. Ed., 2012, 51, 9567–9571        37.0         2.0   \n",
       "2  Angew. Chem., Int. Ed., 2012, 51, 9567–9571        37.0         3.0   \n",
       "3  Angew. Chem., Int. Ed., 2012, 51, 9567–9571        37.0         4.0   \n",
       "4  Angew. Chem., Int. Ed., 2012, 51, 9567–9571        37.0         5.0   \n",
       "\n",
       "   Unnamed: 10 base/acid  \n",
       "0          NaN       NaN  \n",
       "1          NaN       NaN  \n",
       "2          NaN       NaN  \n",
       "3          NaN       NaN  \n",
       "4          NaN       NaN  "
      ]
     },
     "execution_count": 4,
     "metadata": {},
     "output_type": "execute_result"
    }
   ],
   "source": [
    "df = read_excel(DATAS)\n",
    "print(len(df))\n",
    "df.head()"
   ]
  },
  {
   "cell_type": "code",
   "execution_count": 5,
   "metadata": {
    "collapsed": false
   },
   "outputs": [
    {
     "name": "stderr",
     "output_type": "stream",
     "text": [
      "RDKit ERROR: [18:54:10] Explicit valence for atom # 3 Br, 3, is greater than permitted\n",
      "[18:54:10] Explicit valence for atom # 3 Br, 3, is greater than permitted\n",
      "RDKit ERROR: [18:54:10] Explicit valence for atom # 1 N, 4, is greater than permitted\n",
      "[18:54:10] Explicit valence for atom # 1 N, 4, is greater than permitted\n",
      "RDKit ERROR: [18:54:10] Explicit valence for atom # 1 N, 4, is greater than permitted\n",
      "[18:54:10] Explicit valence for atom # 1 N, 4, is greater than permitted\n",
      "RDKit ERROR: [18:54:11] SMILES Parse Error: syntax error while parsing: [H2O18]\n",
      "RDKit ERROR: [18:54:11] SMILES Parse Error: Failed parsing SMILES '[H2O18]' for input: '[H2O18]'\n",
      "[18:54:11] SMILES Parse Error: syntax error while parsing: [H2O18]\n",
      "[18:54:11] SMILES Parse Error: Failed parsing SMILES '[H2O18]' for input: '[H2O18]'\n",
      "RDKit ERROR: [18:54:11] Explicit valence for atom # 3 Br, 3, is greater than permitted\n",
      "[18:54:11] Explicit valence for atom # 3 Br, 3, is greater than permitted\n",
      "RDKit ERROR: [18:54:11] Explicit valence for atom # 0 Cl, 2, is greater than permitted\n",
      "[18:54:11] Explicit valence for atom # 0 Cl, 2, is greater than permitted\n",
      "RDKit ERROR: [18:54:11] Explicit valence for atom # 1 Cl, 5, is greater than permitted\n",
      "RDKit ERROR: [18:54:11] Explicit valence for atom # 0 Cl, 3, is greater than permitted\n",
      "[18:54:11] Explicit valence for atom # 1 Cl, 5, is greater than permitted\n",
      "[18:54:11] Explicit valence for atom # 0 Cl, 3, is greater than permitted\n",
      "RDKit ERROR: [18:54:12] Explicit valence for atom # 6 S, 8, is greater than permitted\n",
      "[18:54:12] Explicit valence for atom # 6 S, 8, is greater than permitted\n",
      "RDKit ERROR: [18:54:13] SMILES Parse Error: syntax error while parsing: vCC1=CC=NC2=CC=CC=C21\n",
      "[18:54:13] SMILES Parse Error: syntax error while parsing: vCC1=CC=NC2=CC=CC=C21\n",
      "RDKit ERROR: [18:54:13] SMILES Parse Error: Failed parsing SMILES 'vCC1=CC=NC2=CC=CC=C21' for input: 'vCC1=CC=NC2=CC=CC=C21'\n",
      "[18:54:13] SMILES Parse Error: Failed parsing SMILES 'vCC1=CC=NC2=CC=CC=C21' for input: 'vCC1=CC=NC2=CC=CC=C21'\n"
     ]
    },
    {
     "name": "stdout",
     "output_type": "stream",
     "text": [
      "6175\n"
     ]
    }
   ],
   "source": [
    "# 去掉不能标准化的反应，抑制输出\n",
    "df['canonized_rxns'] = df['reaction'].apply(canonize_rxn)\n",
    "df.dropna(subset=['canonized_rxns'], inplace=True)\n",
    "df.reset_index(drop=True, inplace=True)\n",
    "print(len(df))"
   ]
  },
  {
   "cell_type": "code",
   "execution_count": 6,
   "metadata": {
    "collapsed": false
   },
   "outputs": [],
   "source": [
    "\"\"\"Numerical for Extra Information\"\"\"\n",
    "def get_map_dict(df: pd.DataFrame, col: str):\n",
    "    map_dict = defaultdict(int)\n",
    "    for v, k in enumerate(df[col].value_counts().index.to_list()):\n",
    "        map_dict[k] = v + 1 # Zero for Unknown Type\n",
    "    return map_dict"
   ]
  },
  {
   "cell_type": "code",
   "execution_count": 7,
   "metadata": {
    "collapsed": false
   },
   "outputs": [],
   "source": [
    "# Numerical Catalyst\n",
    "cat_map_dict = get_map_dict(df, 'photocatalyst')\n",
    "df['cat_class'] = df['photocatalyst'].apply(lambda x: cat_map_dict[x])"
   ]
  },
  {
   "cell_type": "code",
   "execution_count": 8,
   "metadata": {
    "collapsed": false
   },
   "outputs": [],
   "source": [
    "# Numerical Base\n",
    "base_map_dict = get_map_dict(df, 'base')\n",
    "df['base_class'] = df['base'].apply(lambda x: base_map_dict[x])"
   ]
  },
  {
   "cell_type": "code",
   "execution_count": 9,
   "metadata": {
    "collapsed": false
   },
   "outputs": [],
   "source": [
    "# Numerical Additives\n",
    "additive_map_dict = get_map_dict(df, 'additive')\n",
    "df['additive_class'] = df['additive'].apply(lambda x: additive_map_dict[x])"
   ]
  },
  {
   "cell_type": "code",
   "execution_count": 10,
   "metadata": {
    "collapsed": false
   },
   "outputs": [],
   "source": [
    "# Numerical solvent\n",
    "solvent_map_dict = get_map_dict(df, 'solvent')\n",
    "df['solvent_class'] = df['solvent'].apply(lambda x: solvent_map_dict[x])"
   ]
  },
  {
   "cell_type": "code",
   "execution_count": 11,
   "metadata": {
    "collapsed": false
   },
   "outputs": [
    {
     "name": "stdout",
     "output_type": "stream",
     "text": [
      "6175\n"
     ]
    }
   ],
   "source": [
    "print(len(df))\n",
    "df.to_csv('data.csv')\n",
    "# Save map dict\n",
    "import json\n",
    "with open('cat_map_dict.json','w') as f:\n",
    "    jsonData = json.dump(cat_map_dict, f)\n",
    "with open('base_map_dict.json','w') as f:\n",
    "    jsonData = json.dump(base_map_dict, f)\n",
    "with open('additive_map_dict.json','w') as f:\n",
    "    jsonData = json.dump(additive_map_dict, f)\n",
    "with open('solvent_map_dict.json','w') as f:\n",
    "    jsonData = json.dump(solvent_map_dict, f)"
   ]
  },
  {
   "cell_type": "code",
   "execution_count": 12,
   "metadata": {
    "collapsed": false
   },
   "outputs": [],
   "source": [
    "base_list = df['base'].value_counts()\n",
    "cat_list = df['photocatalyst'].value_counts()"
   ]
  },
  {
   "cell_type": "code",
   "execution_count": 13,
   "metadata": {
    "collapsed": false
   },
   "outputs": [
    {
     "data": {
      "text/plain": [
       "DABCO             283\n",
       "Cs2CO3            261\n",
       "K2CO3             190\n",
       "2,6-lutidine      120\n",
       "TFA               112\n",
       "Na2HPO4            93\n",
       "KOtBu              88\n",
       "K3PO4              87\n",
       "Na2CO3             70\n",
       "/HCl               67\n",
       "propionic acid     62\n",
       "DBU                61\n",
       "TBD                60\n",
       "Et3N               52\n",
       "TBADT              51\n",
       "K2HPO4             48\n",
       "NaH2PO4            46\n",
       "AgOAc              46\n",
       "KH2PO4             44\n",
       "NaHSO4             44\n",
       "Name: base, dtype: int64"
      ]
     },
     "execution_count": 13,
     "metadata": {},
     "output_type": "execute_result"
    }
   ],
   "source": [
    "base_list[:20]"
   ]
  },
  {
   "cell_type": "code",
   "execution_count": 14,
   "metadata": {
    "collapsed": false
   },
   "outputs": [
    {
     "data": {
      "text/plain": [
       "fac-Ir(ppy)3                  1422\n",
       "Autocatalysis                  686\n",
       "Ru(bpy)3(PF6)2                 451\n",
       "Ru(bpy)3Cl2                    416\n",
       "eosin Y                        405\n",
       "Ir(dF(CF3)ppy)2(bpy)]PF6       344\n",
       "Mes-Acr+                       261\n",
       "[Ir(dF(CF3)ppy)2(bpy)]PF6      122\n",
       "4-CzIPN                        112\n",
       "Ru(ppy)2(dtbbpy)PF6            106\n",
       "rose bengal                     89\n",
       "Ir[dF(CF3)ppy]2(bpy)(PF6)       88\n",
       "Pd(DPEPhos)Cl2                  79\n",
       "[Ir(dtbbpy)(ppy)2]PF6           75\n",
       "Mes-Acr-Me+                     72\n",
       "TBADT                           67\n",
       "Mn2(CO)10                       62\n",
       "Pd(PPh3)4                       60\n",
       "Acriflavine                     54\n",
       "5,7,12,14-pentacenetetrone      51\n",
       "Name: photocatalyst, dtype: int64"
      ]
     },
     "execution_count": 14,
     "metadata": {},
     "output_type": "execute_result"
    }
   ],
   "source": [
    "cat_list[:20]"
   ]
  },
  {
   "cell_type": "code",
   "execution_count": 17,
   "metadata": {},
   "outputs": [
    {
     "name": "stdout",
     "output_type": "stream",
     "text": [
      "C=Cc1ccc(C(C)(C)C)cc1.CC(C)(C)C(=O)ON1C(=O)c2ccccc2C1=O\n",
      "CC(C)(C)CC(=O)c1ccc(C(C)(C)C)cc1\n",
      "CC(C)(C)/C=C/c1ccc(C(C)(C)C)cc1\n"
     ]
    }
   ],
   "source": [
    "import rdkit\n",
    "reactant = 'C=CC1=CC=C(C(C)(C)C)C=C1.O=C2N(OC(C(C)(C)C)=O)C(C3=CC=CC=C32)=O'\n",
    "product1 = 'CC(C)(C)CC(C4=CC=C(C(C)(C)C)C=C4)=O'\n",
    "product2 = 'CC(C)(C)/C=C/C4=CC=C(C(C)(C)C)C=C4'\n",
    "print(canonize_smi(reactant))\n",
    "print(canonize_smi(product1))\n",
    "print(canonize_smi(product2))"
   ]
  },
  {
   "cell_type": "code",
   "execution_count": null,
   "metadata": {
    "collapsed": false
   },
   "outputs": [],
   "source": [
    "'C=CC1=CC=C(C(C)(C)C)C=C1.O=C2N(OC(C(C)(C)C)=O)C(C3=CC=CC=C32)=O|0.1.0.3>>CC(C)(C)CC(C4=CC=C(C(C)(C)C)C=C4)=O'\n",
    "'C=CC1=CC=C(C(C)(C)C)C=C1.O=C2N(OC(C(C)(C)C)=O)C(C3=CC=CC=C32)=O|0.1.30.3>>CC(C)(C)/C=C/C4=CC=C(C(C)(C)C)C=C4'"
   ]
  },
  {
   "attachments": {},
   "cell_type": "markdown",
   "metadata": {},
   "source": [
    "C=Cc1ccc(C(C)(C)C)cc1.CC(C)(C)C(=O)ON1C(=O)c2ccccc2C1=O|0.1.0.3>>CC(C)(C)CC(=O)c1ccc(C(C)(C)C)cc1\n",
    "C=Cc1ccc(C(C)(C)C)cc1.CC(C)(C)C(=O)ON1C(=O)c2ccccc2C1=O|0.1.30.3>>CC(C)(C)/C=C/c1ccc(C(C)(C)C)cc1"
   ]
  },
  {
   "cell_type": "markdown",
   "metadata": {},
   "source": []
  }
 ],
 "metadata": {
  "kernelspec": {
   "display_name": "rdkit",
   "language": "python",
   "name": "python3"
  },
  "language_info": {
   "codemirror_mode": {
    "name": "ipython",
    "version": 3
   },
   "file_extension": ".py",
   "mimetype": "text/x-python",
   "name": "python",
   "nbconvert_exporter": "python",
   "pygments_lexer": "ipython3",
   "version": "3.7.11 (default, Jul 27 2021, 14:32:16) \n[GCC 7.5.0]"
  },
  "vscode": {
   "interpreter": {
    "hash": "11c991b54abeaf56fe1bdb3b6c0147bbd0f9619edf3fdc730c7aa820fb5f242a"
   }
  }
 },
 "nbformat": 4,
 "nbformat_minor": 0
}
